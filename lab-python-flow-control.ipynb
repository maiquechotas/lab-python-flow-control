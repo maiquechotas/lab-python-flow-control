{
 "cells": [
  {
   "cell_type": "markdown",
   "id": "d3bfc191-8885-42ee-b0a0-bbab867c6f9f",
   "metadata": {
    "tags": []
   },
   "source": [
    "# Lab | Flow Control"
   ]
  },
  {
   "cell_type": "markdown",
   "id": "3851fcd1-cf98-4653-9c89-e003b7ec9400",
   "metadata": {},
   "source": [
    "## Exercise: Managing Customer Orders Optimized\n",
    "\n",
    "In the last lab, you were starting an online store that sells various products. To ensure smooth operations, you developed a program that manages customer orders and inventory.\n",
    "\n",
    "You did so without using flow control. Let's go a step further and improve this code.\n",
    "\n",
    "Follow the steps below to complete the exercise:\n",
    "\n",
    "1. Look at your code from the lab data structures, and improve repeated code with loops.\n",
    "\n",
    "2. Instead of asking the user to input the name of three products that a customer wants to order, do the following:\n",
    "    \n",
    "    a. Prompt the user to enter the name of a product that a customer wants to order.\n",
    "    \n",
    "    b. Add the product name to the \"customer_orders\" set.\n",
    "    \n",
    "    c. Ask the user if they want to add another product (yes/no).\n",
    "    \n",
    "    d. Continue the loop until the user does not want to add another product.\n",
    "\n",
    "3. Instead of updating the inventory by subtracting 1 from the quantity of each product, only do it for  the products that were ordered (those in \"customer_orders\")."
   ]
  },
  {
   "cell_type": "code",
   "execution_count": null,
   "id": "effdf333",
   "metadata": {},
   "outputs": [],
   "source": [
    "#Old solution, without loops\n",
    "\n",
    "#1. Define a list called `products` that contains the following items: \"t-shirt\", \"mug\", \"hat\", \"book\", \"keychain\".\n",
    "products = [\"t-shirt\", \"mug\", \"hat\", \"book\", \"keychain\"]\n",
    "#print (products)                  \n",
    "                             \n",
    "#2. Create an empty dictionary called `inventory`.\n",
    "inventory={}\n",
    "inventory={\"t-shirt\":0, \"mug\":0, \"hat\":0, \"book\":0, \"keychain\":0}\n",
    "\n",
    "#3. Ask the user to input the quantity of each product available in the inventory. \n",
    "# Use the product names from the `products` list as keys in the `inventory` dictionary and assign the respective quantities as values.\n",
    "inventory[\"t-shirt\"] = int(input(\"¿How many t-shirts are there?\"))\n",
    "inventory[\"mug\"] = int(input(\"¿How many mugs are there?\"))\n",
    "inventory[\"hat\"] = int(input(\"¿How many hats are there?\"))\n",
    "inventory[\"book\"] = int(input(\"¿How many books are there?\"))\n",
    "inventory[\"keychain\"] = int(input(\"¿How many keychains are there?\"))\n",
    "#print (inventory) \n",
    "\n",
    "#4. Create an empty set called `customer_orders`\n",
    "customer_orders=set()\n",
    "#print(type(customer_orders))\n",
    "\n",
    "#5. Ask the user to input the name of three products that a customer wants to order \n",
    "# (from those in the products list, meaning three products out of \"t-shirt\", \"mug\", \"hat\", \"book\" or \"keychain\". \n",
    "\n",
    "# Add each product name to the `customer_orders` set.\n",
    "product1=input(\"Choose the 1st product\")\n",
    "product2=input(\"Choose the 2nd product\")\n",
    "product3=input(\"Choose the 3rd product\")\n",
    "customer_orders.add(product1)\n",
    "customer_orders.add(product2)\n",
    "customer_orders.add(product3)\n",
    "\n",
    "#6. Print the products in the `customer_orders` set.\n",
    "print(customer_orders)\n",
    "{'mug', 'hat', 'book'}\n",
    "\n",
    "#7. Calculate the following order statistics:\n",
    "#   - Total Products Ordered: The total number of products in the `customer_orders` set.\n",
    "#   - Percentage of Products Ordered: The percentage of products ordered compared to the total available products.\n",
    "   \n",
    "#   Store these statistics in a tuple called `order_status`.\n",
    "\n",
    "total_products_ordered=len(customer_orders)\n",
    "percentage_ordered=total_products_ordered/len(inventory)*100\n",
    "order_status=(total_products_ordered,percentage_ordered)\n",
    "#type(order_status)\n",
    "\n",
    "# 8. Print the order statistics using the following format:\n",
    "#   ```\n",
    "#   Order Statistics:\n",
    "#   Total Products Ordered: <total_products_ordered>\n",
    "#   Percentage of Products Ordered: <percentage_ordered>% \n",
    "#   ```\n",
    "\n",
    "print(f\"Order Statistics:\\nTotal Products Ordered: {total_products_ordered}\\nPercentage of Products Ordered: {percentage_ordered}%\")\n",
    "\n",
    "\n",
    "#9. Update the inventory by subtracting 1 from the quantity of each product. \n",
    "#Modify the `inventory` dictionary accordingly.\n",
    "(inventory[product1])-=1\n",
    "(inventory[product2])-=1\n",
    "(inventory[product3])-=1\n",
    "\n",
    "#10. Print the updated inventory, displaying the quantity of each product on separate lines.\n",
    "for product, quantity in inventory.items():\n",
    "    print(f\"{product} : {quantity}\")     \n",
    "                             "
   ]
  },
  {
   "cell_type": "markdown",
   "id": "8c465106",
   "metadata": {},
   "source": [
    "1. Look at your code from the lab data structures, and improve repeated code with loops."
   ]
  },
  {
   "cell_type": "code",
   "execution_count": 12,
   "id": "1c475c04",
   "metadata": {},
   "outputs": [
    {
     "name": "stdout",
     "output_type": "stream",
     "text": [
      "{'t-shirt': 5, 'mug': 6, 'hat': 7, 'book': 8, 'keychain': 9}\n"
     ]
    }
   ],
   "source": [
    "#New solution, using loops\n",
    "\n",
    "#1. Define a list called `products` that contains the following items: \"t-shirt\", \"mug\", \"hat\", \"book\", \"keychain\".\n",
    "products = [\"t-shirt\", \"mug\", \"hat\", \"book\", \"keychain\"]\n",
    "#print (products)                  \n",
    "                             \n",
    "#2. Create an empty dictionary called `inventory`.\n",
    "inventory={}\n",
    "\n",
    "#3. Ask the user to input the quantity of each product available in the inventory. \n",
    "# Use the product names from the `products` list as keys in the `inventory` dictionary and assign the respective quantities as values.\n",
    "for product in products: #we use the for loop to fill the keys with product and the values with the input\n",
    "    inventory[product] = int(input(f\"¿How many {product} are there?\"))\n",
    "print (inventory) \n",
    "\n"
   ]
  },
  {
   "cell_type": "code",
   "execution_count": 2,
   "id": "dd2cde92",
   "metadata": {},
   "outputs": [],
   "source": [
    "#4. Create an empty set called `customer_orders`\n",
    "customer_orders=set()\n",
    "#print(type(customer_orders))"
   ]
  },
  {
   "cell_type": "code",
   "execution_count": 3,
   "id": "f862c767",
   "metadata": {},
   "outputs": [],
   "source": [
    "#5. Ask the user to input the name of three products that a customer wants to order \n",
    "# (from those in the products list, meaning three products out of \"t-shirt\", \"mug\", \"hat\", \"book\" or \"keychain\". \n",
    "\n",
    "# Add each product name to the `customer_orders` set.\n",
    "#product1=input(\"Choose the 1st product\")\n",
    "#product2=input(\"Choose the 2nd product\")\n",
    "#product3=input(\"Choose the 3rd product\")\n",
    "\n",
    "while len(customer_orders) < 3:\n",
    "    customer_orders.add(input(f\"Choose the product number {len(customer_orders)+1}\"))\n"
   ]
  },
  {
   "cell_type": "code",
   "execution_count": null,
   "id": "1fa49786",
   "metadata": {},
   "outputs": [],
   "source": [
    "#6. Print the products in the `customer_orders` set.\n",
    "print(customer_orders)"
   ]
  },
  {
   "cell_type": "code",
   "execution_count": null,
   "id": "6fe07a99",
   "metadata": {},
   "outputs": [],
   "source": [
    "#7. Calculate the following order statistics:\n",
    "#   - Total Products Ordered: The total number of products in the `customer_orders` set.\n",
    "#   - Percentage of Products Ordered: The percentage of products ordered compared to the total available products.\n",
    "   \n",
    "#   Store these statistics in a tuple called `order_status`.\n",
    "\n",
    "total_products_ordered=len(customer_orders)\n",
    "percentage_ordered=total_products_ordered/len(inventory)*100\n",
    "order_status=(total_products_ordered,percentage_ordered)\n",
    "#type(order_status)\n",
    "\n",
    "# 8. Print the order statistics using the following format:\n",
    "#   ```\n",
    "#   Order Statistics:\n",
    "#   Total Products Ordered: <total_products_ordered>\n",
    "#   Percentage of Products Ordered: <percentage_ordered>% \n",
    "#   ```\n",
    "\n",
    "print(f\"Order Statistics:\\nTotal Products Ordered: {total_products_ordered}\\nPercentage of Products Ordered: {percentage_ordered}%\")"
   ]
  },
  {
   "cell_type": "code",
   "execution_count": null,
   "id": "7ab563b6",
   "metadata": {},
   "outputs": [],
   "source": [
    "#9. Update the inventory by subtracting 1 from the quantity of each product. \n",
    "#Modify the `inventory` dictionary accordingly.\n",
    "for product in customer_orders:\n",
    "    (inventory[product])-=1\n",
    "\n",
    "\n",
    "#10. Print the updated inventory, displaying the quantity of each product on separate lines.\n",
    "for product, quantity in inventory.items():\n",
    "    print(f\"{product} : {quantity}\")    "
   ]
  },
  {
   "cell_type": "markdown",
   "id": "8b2b9b72",
   "metadata": {},
   "source": [
    "2. Instead of asking the user to input the name of three products that a customer wants to order, do the following:\n",
    "    \n",
    "    a. Prompt the user to enter the name of a product that a customer wants to order.\n",
    "    \n",
    "    b. Add the product name to the \"customer_orders\" set.\n",
    "    \n",
    "    c. Ask the user if they want to add another product (yes/no).\n",
    "    \n",
    "    d. Continue the loop until the user does not want to add another product."
   ]
  },
  {
   "cell_type": "code",
   "execution_count": 13,
   "id": "303b104a",
   "metadata": {},
   "outputs": [
    {
     "name": "stdout",
     "output_type": "stream",
     "text": [
      "Ok\n",
      "{'book', 'keychain'}\n"
     ]
    }
   ],
   "source": [
    "customer_orders=set()\n",
    "yes_no=True\n",
    "while yes_no==True:\n",
    "    answer=input(f\"Do you want to order any product? Introduce Yes or No {len(customer_orders)+1}\").lower()\n",
    "    if answer==\"yes\":\n",
    "        customer_orders.add(input(f\"Choose the product number {len(customer_orders)+1}\"))\n",
    "    else:\n",
    "        print(\"Ok\")\n",
    "        yes_no=False\n",
    "print(customer_orders)\n"
   ]
  },
  {
   "cell_type": "markdown",
   "id": "6ba723d7",
   "metadata": {},
   "source": [
    "3. Instead of updating the inventory by subtracting 1 from the quantity of each product, only do it for  the products that were ordered (those in \"customer_orders\")."
   ]
  },
  {
   "cell_type": "code",
   "execution_count": 16,
   "id": "b9f2c115",
   "metadata": {},
   "outputs": [
    {
     "name": "stdout",
     "output_type": "stream",
     "text": [
      "{'t-shirt': 5, 'mug': 6, 'hat': 7, 'book': 5, 'keychain': 6}\n"
     ]
    }
   ],
   "source": [
    "for product in customer_orders:\n",
    "    (inventory[product])-=1\n",
    "print (inventory)"
   ]
  }
 ],
 "metadata": {
  "kernelspec": {
   "display_name": "Python 3 (ipykernel)",
   "language": "python",
   "name": "python3"
  },
  "language_info": {
   "codemirror_mode": {
    "name": "ipython",
    "version": 3
   },
   "file_extension": ".py",
   "mimetype": "text/x-python",
   "name": "python",
   "nbconvert_exporter": "python",
   "pygments_lexer": "ipython3",
   "version": "3.12.6"
  }
 },
 "nbformat": 4,
 "nbformat_minor": 5
}
